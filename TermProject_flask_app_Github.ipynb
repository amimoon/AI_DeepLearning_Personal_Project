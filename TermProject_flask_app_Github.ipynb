{
  "nbformat": 4,
  "nbformat_minor": 0,
  "metadata": {
    "colab": {
      "name": "TermProject_flask_app_Github.ipynb",
      "provenance": [],
      "collapsed_sections": [],
      "toc_visible": true,
      "include_colab_link": true
    },
    "kernelspec": {
      "display_name": "Python 3",
      "name": "python3"
    },
    "language_info": {
      "name": "python"
    }
  },
  "cells": [
    {
      "cell_type": "markdown",
      "metadata": {
        "id": "view-in-github",
        "colab_type": "text"
      },
      "source": [
        "<a href=\"https://colab.research.google.com/github/amimoon/AI_DeepLearning_Personal_Project/blob/main/TermProject_flask_app_Github.ipynb\" target=\"_parent\"><img src=\"https://colab.research.google.com/assets/colab-badge.svg\" alt=\"Open In Colab\"/></a>"
      ]
    },
    {
      "cell_type": "markdown",
      "metadata": {
        "id": "adwDPtSkO85k"
      },
      "source": [
        "# Flask Website Example\n",
        "\n",
        "You can develop a simple web server using Colab and python Flask framework. Vanilla Colab cannot be used for public deployement, but we can build a temporary server using Flask-Ngrok library."
      ]
    },
    {
      "cell_type": "code",
      "metadata": {
        "colab": {
          "base_uri": "https://localhost:8080/"
        },
        "id": "7AHcqWDsmKyQ",
        "outputId": "acddbbdb-e59c-4a28-90b3-958f6b2de2f9"
      },
      "source": [
        "!pip install flask-ngrok"
      ],
      "execution_count": null,
      "outputs": [
        {
          "output_type": "stream",
          "text": [
            "Collecting flask-ngrok\n",
            "  Downloading https://files.pythonhosted.org/packages/af/6c/f54cb686ad1129e27d125d182f90f52b32f284e6c8df58c1bae54fa1adbc/flask_ngrok-0.0.25-py3-none-any.whl\n",
            "Requirement already satisfied: requests in /usr/local/lib/python3.7/dist-packages (from flask-ngrok) (2.23.0)\n",
            "Requirement already satisfied: Flask>=0.8 in /usr/local/lib/python3.7/dist-packages (from flask-ngrok) (1.1.4)\n",
            "Requirement already satisfied: idna<3,>=2.5 in /usr/local/lib/python3.7/dist-packages (from requests->flask-ngrok) (2.10)\n",
            "Requirement already satisfied: urllib3!=1.25.0,!=1.25.1,<1.26,>=1.21.1 in /usr/local/lib/python3.7/dist-packages (from requests->flask-ngrok) (1.24.3)\n",
            "Requirement already satisfied: certifi>=2017.4.17 in /usr/local/lib/python3.7/dist-packages (from requests->flask-ngrok) (2021.5.30)\n",
            "Requirement already satisfied: chardet<4,>=3.0.2 in /usr/local/lib/python3.7/dist-packages (from requests->flask-ngrok) (3.0.4)\n",
            "Requirement already satisfied: click<8.0,>=5.1 in /usr/local/lib/python3.7/dist-packages (from Flask>=0.8->flask-ngrok) (7.1.2)\n",
            "Requirement already satisfied: Werkzeug<2.0,>=0.15 in /usr/local/lib/python3.7/dist-packages (from Flask>=0.8->flask-ngrok) (1.0.1)\n",
            "Requirement already satisfied: itsdangerous<2.0,>=0.24 in /usr/local/lib/python3.7/dist-packages (from Flask>=0.8->flask-ngrok) (1.1.0)\n",
            "Requirement already satisfied: Jinja2<3.0,>=2.10.1 in /usr/local/lib/python3.7/dist-packages (from Flask>=0.8->flask-ngrok) (2.11.3)\n",
            "Requirement already satisfied: MarkupSafe>=0.23 in /usr/local/lib/python3.7/dist-packages (from Jinja2<3.0,>=2.10.1->Flask>=0.8->flask-ngrok) (2.0.1)\n",
            "Installing collected packages: flask-ngrok\n",
            "Successfully installed flask-ngrok-0.0.25\n"
          ],
          "name": "stdout"
        }
      ]
    },
    {
      "cell_type": "code",
      "metadata": {
        "colab": {
          "base_uri": "https://localhost:8080/",
          "height": 35
        },
        "id": "laFF6X1DNt4m",
        "outputId": "677d401c-c155-479e-d7fc-2a68cad6737d"
      },
      "source": [
        "'''\n",
        "import shutil\n",
        "\n",
        "shutil.rmtree('/content/DeepLearning_TermProject/', ignore_errors=False)\n",
        "'''"
      ],
      "execution_count": null,
      "outputs": [
        {
          "output_type": "execute_result",
          "data": {
            "application/vnd.google.colaboratory.intrinsic+json": {
              "type": "string"
            },
            "text/plain": [
              "\"\\nimport shutil\\n\\nshutil.rmtree('/content/DeepLearning_TermProject/', ignore_errors=False)\\n\""
            ]
          },
          "metadata": {
            "tags": []
          },
          "execution_count": 2
        }
      ]
    },
    {
      "cell_type": "code",
      "metadata": {
        "colab": {
          "base_uri": "https://localhost:8080/"
        },
        "id": "8a9vLsbDOCzf",
        "outputId": "03ae8bc6-540b-4f28-9ba5-9a6d7cc4bc51"
      },
      "source": [
        "%cd /content"
      ],
      "execution_count": null,
      "outputs": [
        {
          "output_type": "stream",
          "text": [
            "/content\n"
          ],
          "name": "stdout"
        }
      ]
    },
    {
      "cell_type": "markdown",
      "metadata": {
        "id": "kmC8qd2jXAg8"
      },
      "source": [
        "# Github의 레파지토리 Clone\n",
        "\n",
        "flask에서 사용하는 폴더를  Github에 배포하고 이를 복제하여 활용"
      ]
    },
    {
      "cell_type": "code",
      "metadata": {
        "colab": {
          "base_uri": "https://localhost:8080/"
        },
        "id": "YyZ_BMyLIAuo",
        "outputId": "4369bb4d-befb-4569-cbec-8d98fe40c1d4"
      },
      "source": [
        "import os\n",
        "if not os.path.exists('DeepLearning_TermProject'):\n",
        "  !git clone https://github.com/MSD-AI/DeepLearning_TermProject.git"
      ],
      "execution_count": null,
      "outputs": [
        {
          "output_type": "stream",
          "text": [
            "Cloning into 'DeepLearning_TermProject'...\n",
            "remote: Enumerating objects: 256, done.\u001b[K\n",
            "remote: Counting objects: 100% (256/256), done.\u001b[K\n",
            "remote: Compressing objects: 100% (191/191), done.\u001b[K\n",
            "remote: Total 256 (delta 104), reused 156 (delta 46), pack-reused 0\u001b[K\n",
            "Receiving objects: 100% (256/256), 46.61 MiB | 35.48 MiB/s, done.\n",
            "Resolving deltas: 100% (104/104), done.\n"
          ],
          "name": "stdout"
        }
      ]
    },
    {
      "cell_type": "code",
      "metadata": {
        "colab": {
          "base_uri": "https://localhost:8080/"
        },
        "id": "xWdx1BnPJyJz",
        "outputId": "2c21cd4d-7d6f-4651-ddcd-bfdd9d4c5535"
      },
      "source": [
        "%cd /content/DeepLearning_TermProject"
      ],
      "execution_count": null,
      "outputs": [
        {
          "output_type": "stream",
          "text": [
            "/content/DeepLearning_TermProject\n"
          ],
          "name": "stdout"
        }
      ]
    },
    {
      "cell_type": "code",
      "metadata": {
        "id": "RaVb0EcRsgxL"
      },
      "source": [
        "import new_style_transfer\n",
        "from flask import Flask, redirect, url_for, render_template, session, request\n",
        "#from flask import escape, request, Response, g, make_response\n",
        "from datetime import timedelta\n",
        "\n",
        "from flask_ngrok import run_with_ngrok\n",
        "#import os, sys\n",
        "from flask.templating import render_template"
      ],
      "execution_count": null,
      "outputs": []
    },
    {
      "cell_type": "markdown",
      "metadata": {
        "id": "HZYOYcC10dGl"
      },
      "source": [
        "* Flask를 실행하기 위한 정보 셋팅\n",
        "* "
      ]
    },
    {
      "cell_type": "code",
      "metadata": {
        "id": "IcgYiIGemsmP"
      },
      "source": [
        "app = Flask(__name__)\n",
        "run_with_ngrok(app)\n",
        "app.secret_key = \"thisisasecret\"\n",
        "app.permanent_session_lifetime = timedelta(minutes=5)"
      ],
      "execution_count": null,
      "outputs": []
    },
    {
      "cell_type": "markdown",
      "metadata": {
        "id": "iNG79O0vTiaO"
      },
      "source": [
        "* 초기화면에 사용한 index.html 파일 구성\n",
        "* 이미지변환 버튼 클릭 시 new_style_transfer.py가 호출되어 이미지 변환작업 실행\n",
        "* 부트 스트랩을 이용하여 화면 Style 구성"
      ]
    },
    {
      "cell_type": "code",
      "metadata": {
        "id": "QZxzjZTUjUTF"
      },
      "source": [
        "text = '''\n",
        "<!DOCTYPE html>\n",
        "<html lang=\"ko\">\n",
        "    <head>\n",
        "        <meta charset=\"utf-8\" />\n",
        "        <meta name=\"viewport\" content=\"width=device-width, initial-scale=1, shrink-to-fit=no\" />\n",
        "        <meta name=\"description\" content=\"\" />\n",
        "        <meta name=\"author\" content=\"\" />\n",
        "        <title>Term Project</title>\n",
        "        <!-- Favicon-->\n",
        "        <link rel=\"icon\" type=\"image/x-icon\" href=\"../static/favicon.ico\" />\n",
        "        <!-- Core theme CSS (includes Bootstrap)-->\n",
        "        <link rel=stylesheet href=\"../static/styles.css\" />\n",
        "        <script src=\"https://code.jquery.com/jquery-3.4.1.slim.min.js\" integrity=\"sha384-J6qa4849blE2+poT4WnyKhv5vZF5SrPo0iEjwBvKU7imGFAV0wwj1yYfoRSJoZ+n\" crossorigin=\"anonymous\"></script>\n",
        "        <script src=\"https://cdn.jsdelivr.net/npm/popper.js@1.16.0/dist/umd/popper.min.js\" integrity=\"sha384-Q6E9RHvbIyZFJoft+2mJbHaEWldlvI9IOYy5n3zV9zzTtmI3UksdQRVvoxMfooAo\" crossorigin=\"anonymous\"></script>\n",
        "        <script src=\"https://stackpath.bootstrapcdn.com/bootstrap/4.4.1/js/bootstrap.min.js\" integrity=\"sha384-wfSDF2E50Y2D1uUdj0O3uMBJnjuUD4Ih7YwaYd1iqfktj0Uod8GCExl3Og8ifwB6\" crossorigin=\"anonymous\"></script>\n",
        "        <script>\n",
        "            $(function(){\n",
        "            $(window).scroll(function(){\n",
        "                var navbar = $(this).scrollTop();\n",
        "                console.log(navbar);\n",
        "                // var $header = $('header');\n",
        "                var $navbar_tag = $('.navbar')\n",
        "                if(navbar > 10){\n",
        "                    $navbar_tag.addClass('activated');\n",
        "                }\n",
        "                else{\n",
        "                    $navbar_tag.removeClass('activated');\n",
        "                    }\n",
        "                })\n",
        "            })\n",
        "        </script>\n",
        "        <script type=\"text/javascript\">\n",
        "            function previewImage(targetObj, view_area) {\n",
        "            var preview = document.getElementById(view_area); //div id\n",
        "            var ua = window.navigator.userAgent;\n",
        "\n",
        "            var files = targetObj.files;\n",
        "            for ( var i = 0; i < files.length; i++) {\n",
        "                var file = files[i];\n",
        "                var imageType = /image.*/; //이미지 파일일경우만.. 뿌려준다.\n",
        "                if (!file.type.match(imageType))\n",
        "                    continue;\n",
        "                var prevImg = document.getElementById(\"prev_\" + view_area); //이전에 미리보기가 있다면 삭제\n",
        "                if (prevImg) {\n",
        "                    preview.removeChild(prevImg);\n",
        "                }\n",
        "                var img = document.createElement(\"img\"); \n",
        "                img.id = \"prev_\" + view_area;\n",
        "                img.classList.add(\"obj\");\n",
        "                img.file = file;\n",
        "                img.style.width = '700px'; \n",
        "                img.style.height = '400px';\n",
        "                preview.appendChild(img);\n",
        "                if (window.FileReader) { // FireFox, Chrome, Opera 확인.\n",
        "                    var reader = new FileReader();\n",
        "                    reader.onloadend = (function(aImg) {\n",
        "                        return function(e) {\n",
        "                            aImg.src = e.target.result;\n",
        "                        };\n",
        "                    })(img);\n",
        "                    reader.readAsDataURL(file);\n",
        "                } else { // safari is not supported FileReader\n",
        "                    //alert('not supported FileReader');\n",
        "                    if (!document.getElementById(\"sfr_preview_error_\"\n",
        "                            + view_area)) {\n",
        "                        var info = document.createElement(\"p\");\n",
        "                        info.id = \"sfr_preview_error_\" + view_area;\n",
        "                        info.innerHTML = \"not supported FileReader\";\n",
        "                        preview.insertBefore(info, null);\n",
        "                    }\n",
        "                }\n",
        "            }\n",
        "        }\n",
        "        </script>\n",
        "    </head>\n",
        "    <body>\n",
        "        <!-- Responsive navbar-->\n",
        "        <nav class=\"navbar navbar-expand-lg navbar-dark bg-dark\">\n",
        "            <div class=\"container\">\n",
        "                <a class=\"navbar-brand\" href=\"/\">MSD.ai</a>\n",
        "                <button class=\"navbar-toggler\" type=\"button\" data-bs-toggle=\"collapse\" data-bs-target=\"#navbarSupportedContent\" aria-controls=\"navbarSupportedContent\" aria-expanded=\"false\" aria-label=\"Toggle navigation\"><span class=\"navbar-toggler-icon\"></span></button>\n",
        "                <div class=\"collapse navbar-collapse\" id=\"navbarSupportedContent\">\n",
        "                    <ul class=\"navbar-nav ms-auto mb-2 mb-lg-0\">\n",
        "                        <li class=\"nav-item\"><a class=\"nav-link active\" aria-current=\"page\" href=\"/\">Home</a></li>\n",
        "                        <li class=\"nav-item\"><a class=\"nav-link\" href=\"/company\">Company</a></li>\n",
        "                        <li class=\"nav-item\"><a class=\"nav-link\" href=\"/product\"\">Product</a></li>\n",
        "                    </ul>\n",
        "                </div>\n",
        "            </div>\n",
        "        </nav>\n",
        "        <!-- Header - set the background image for the header in the line below-->\n",
        "        <header class=\"py-5 bg-image-full\" style=\"background-image: url('https://upload.wikimedia.org/wikipedia/commons/thumb/0/01/Vincent_van_Gogh_-_Starry_Night_-_Google_Art_Project.jpg/776px-Vincent_van_Gogh_-_Starry_Night_-_Google_Art_Project.jpg')\">\n",
        "            <div class=\"text-center my-5\">\n",
        "                <h1 class=\"text-white fs-3 fw-bolder\">Nueral Style Transfer Project</h1>\n",
        "                <p class=\"text-white mb-0\">경영자를 위한 딥러닝 </p>\n",
        "            </div>\n",
        "        </header>\n",
        "\n",
        "\t\t<!-- py model로 보낼 정보 -->\n",
        "        <form class=form-select align=\"center\" action=\"/nst_post\" method=\"POST\" enctype=\"multipart/form-data\">\n",
        "            <!--Reference Image 선택하기-->\n",
        "            <h2 align=\"center\">Reference Images</h2>\n",
        "            <p class='mb-1'> 스타일을 참조할 이미지를 선택해주세요.</p>\n",
        "            <table align=\"center\">\n",
        "                <tr>\n",
        "                    <td><img class=\"refer_img\" id=\"refer_img1\" src=\"../static/images/nst_get/rain_princess.JPG\"></td>\n",
        "                    <td><img class=\"refer_img\" id=\"refer_img2\" src=\"../static/images/nst_get/the_stary_night.JPG\"></td>\n",
        "                    <td><img class=\"refer_img\" id=\"refer_img3\" src=\"../static/images/nst_get/scream.JPG\"></td>\n",
        "                    <td><img class=\"refer_img\" id=\"refer_img3\" src=\"../static/images/nst_get/zentangle_art.JPG\"></td>\n",
        "                </tr>\n",
        "                <tr>\n",
        "                    <td><input type=\"radio\" name=\"refer_img\" value=\"rain_princess.JPG\"></td>\n",
        "                    <td><input type=\"radio\" name=\"refer_img\" value=\"the_stary_night.JPG\"></td>\n",
        "                    <td><input type=\"radio\" name=\"refer_img\" value=\"scream.JPG\"></td>\n",
        "                    <td><input type=\"radio\" name=\"refer_img\" value=\"zentangle_art.JPG\"></td>\n",
        "                </tr>\n",
        "            </table>\n",
        "            \n",
        "            <!--사용자 이미지 업로드-->\n",
        "            <h2 align=\"center\">Target Image</h2>\n",
        "            <p class='mb-0'>스타일을 바꿀 이미지를 업로드해주세요.</p>\n",
        "                <div align=\"center\" id='view_area'></div>\n",
        "            <br>\n",
        "            <div>\n",
        "                <input type=\"file\" name=\"user_img\" id=\"user_img\" value=\"userIMgage\" onchange=\"previewImage(this,'view_area')\"/>\n",
        "                <input type=\"submit\" value=\"이미지변환\"/>\n",
        "            </div>\n",
        "            <!--\n",
        "                <input type=\"submit\" value=\"이미지 변환하기\"/><br><br>\n",
        "                <div><button type=\"button\" class=\"btn btn-primary\">이미지변환</button></div>\n",
        "            -->\n",
        "        </form>\n",
        "        <!-- Footer-->\n",
        "        <footer class=\"py-4 bg-dark\">\n",
        "            <div class=\"container\"><p class=\"m-0 text-center text-white\">Copyright &copy; MSD.AI 2021</p></div>\n",
        "        </footer>  \n",
        "        <!-- Bootstrap core JS-->\n",
        "        <script src=\"https://cdn.jsdelivr.net/npm/bootstrap@5.0.1/dist/js/bootstrap.bundle.min.js\"></script>\n",
        "    </body>\n",
        "</html>\n",
        "'''\n",
        "file = open(\"templates/index.html\",\"w\")\n",
        "file.write(text)\n",
        "file.close()"
      ],
      "execution_count": null,
      "outputs": []
    },
    {
      "cell_type": "markdown",
      "metadata": {
        "id": "tZhOLMlOT6yc"
      },
      "source": [
        "* 초기화면에 사용한 nst_post.html 파일 구성\n",
        "* 초기화면에서 이미지 변환 버튼 클릭 시 이동되며 스타일 이미지, 사용자 선택 이미지, 변환된 이미지를 출력\n",
        "* 부트 스트랩을 이용하여 화면 Style 구성"
      ]
    },
    {
      "cell_type": "code",
      "metadata": {
        "id": "1AYr7OCIjnvq"
      },
      "source": [
        "  text = '''\n",
        "<!DOCTYPE html>\n",
        "<html lang=\"en\">\n",
        "    <head>\n",
        "        <meta charset=\"utf-8\" />\n",
        "        <meta name=\"viewport\" content=\"width=device-width, initial-scale=1, shrink-to-fit=no\" />\n",
        "        <meta name=\"description\" content=\"\" />\n",
        "        <meta name=\"author\" content=\"\" />\n",
        "        <title>Term Project</title>\n",
        "        <!-- Favicon-->\n",
        "        <link rel=\"icon\" type=\"image/x-icon\" href=\"./static/favicon.ico\" />\n",
        "        <!-- Core theme CSS (includes Bootstrap)-->\n",
        "        <link rel=stylesheet href=\"./static/styles.css\" />\n",
        "    </head>\n",
        "    <body>\n",
        "        <!-- Responsive navbar-->\n",
        "        <nav class=\"navbar navbar-expand-lg navbar-dark bg-dark\">\n",
        "            <div class=\"container\">\n",
        "                <a class=\"navbar-brand\" href=\"/\">MSD.AI</a>\n",
        "                <button class=\"navbar-toggler\" type=\"button\" data-bs-toggle=\"collapse\" data-bs-target=\"#navbarSupportedContent\" aria-controls=\"navbarSupportedContent\" aria-expanded=\"false\" aria-label=\"Toggle navigation\"><span class=\"navbar-toggler-icon\"></span></button>\n",
        "                <div class=\"collapse navbar-collapse\" id=\"navbarSupportedContent\">\n",
        "                    <ul class=\"navbar-nav ms-auto mb-2 mb-lg-0\">\n",
        "                        <li class=\"nav-item\"><a class=\"nav-link active\" aria-current=\"page\" href=\"/\">Home</a></li>\n",
        "                        <li class=\"nav-item\"><a class=\"nav-link\" href=\"/company\">Company</a></li>\n",
        "                        <li class=\"nav-item\"><a class=\"nav-link\" href=\"/product\"\">Product</a></li>\n",
        "                    </ul>\n",
        "                </div>\n",
        "            </div>\n",
        "        </nav>\n",
        "        <!-- Header - set the background image for the header in the line below-->\n",
        "        <header class=\"py-5 bg-image-full\" style=\"background-image: url('https://upload.wikimedia.org/wikipedia/commons/thumb/0/01/Vincent_van_Gogh_-_Starry_Night_-_Google_Art_Project.jpg/776px-Vincent_van_Gogh_-_Starry_Night_-_Google_Art_Project.jpg')\">\n",
        "            <div class=\"text-center my-5\">\n",
        "                <h1 class=\"text-white fs-3 fw-bolder\">Nueral Style Transfer Project</h1>\n",
        "                <p class=\"text-white-50 mb-0\">경영자를위한딥러닝 </p>\n",
        "            </div>\n",
        "        </header>\n",
        "\n",
        "\t\n",
        "        <!-- 선택한 Refer/Target 이미지 및 Transfer 이미지 -->\n",
        "        <div class=\"side-page-main-div\">\n",
        "            <table align=\"center\">\n",
        "                <tr>\n",
        "                    <td><h2 align=\"center\">Reference Image</h2></td>\n",
        "                    <td><h2 align=\"center\">Target Image</h2></td>\n",
        "                </tr>\n",
        "                <tr align=\"center\">\n",
        "                    <td><img class='nst_img' src=\"{{refer_img}}\" alt='reference image'></td>\n",
        "                    <td><img class='nst_img' src=\"{{user_img}}\" alt='target image'></td>\n",
        "            </table>\n",
        "            <table align=\"center\">\n",
        "                </tr>\n",
        "                    <td><h2 align=\"center\">Transfer Image</h2></td>\t\t\t\t     \n",
        "                <tr>\n",
        "                    <td align=\"center\"><img class=\"nst_result_img\" src=\"{{transfer_img}}\"alt='transfer image'></td>\n",
        "                </tr>\n",
        "            </table>\n",
        "        </div>\n",
        "        <br>\n",
        "        <!-- Footer-->\n",
        "        <footer class=\"py-4 bg-dark\">\n",
        "            <div class=\"container\"><p class=\"m-0 text-center text-white\">Copyright &copy; MSD.AI 2021</p></div>\n",
        "        </footer>  \n",
        "        <!-- Bootstrap core JS-->\n",
        "        <script src=\"https://cdn.jsdelivr.net/npm/bootstrap@5.0.1/dist/js/bootstrap.bundle.min.js\"></script>\n",
        "    </body>\n",
        "</html>\n",
        "'''\n",
        "file = open(\"templates/nst_post.html\",\"w\")\n",
        "file.write(text)\n",
        "file.close()"
      ],
      "execution_count": null,
      "outputs": []
    },
    {
      "cell_type": "markdown",
      "metadata": {
        "id": "CYFSC-sKUHjy"
      },
      "source": [
        "A function for home \"/\" , \"/company\", \"/product\" route."
      ]
    },
    {
      "cell_type": "code",
      "metadata": {
        "id": "_vq54CrNm2XM"
      },
      "source": [
        "# Main page\n",
        "@app.route('/')\n",
        "def index():\n",
        "    return render_template('index.html')\n",
        "    \n",
        "@app.route('/company')\n",
        "def company():\n",
        "    return render_template('company.html')\n",
        "\n",
        "@app.route('/product')\n",
        "def product():\n",
        "    return render_template('product.html')"
      ],
      "execution_count": null,
      "outputs": []
    },
    {
      "cell_type": "markdown",
      "metadata": {
        "id": "LUdROUflUiyp"
      },
      "source": [
        "A function for \"/nst_post\" route."
      ]
    },
    {
      "cell_type": "code",
      "metadata": {
        "id": "cZBKfG9tU5pt"
      },
      "source": [
        "@app.route('/nst_post', methods=['GET','POST'])\n",
        "def nst_post():\n",
        "  if request.method == 'POST':\n",
        "    #root_path()\n",
        "\n",
        "    # Reference Image\n",
        "    refer_img = request.form['refer_img']\n",
        "    refer_img_path = './static/images/nst_get/'+str(refer_img)\n",
        "\n",
        "    # User Image (target image)\n",
        "    user_img = request.files['user_img']\n",
        "    user_img.save('./static/images/nst_get/user/'+str(user_img.filename))\n",
        "    user_img_path = './static/images/nst_get/user/'+str(user_img.filename)\n",
        "\n",
        "    # Neural Style Transfer \n",
        "    #transfer_img = neural_style_transfer.main(refer_img_path, user_img_path)\n",
        "    transfer_img = new_style_transfer.main(refer_img_path, user_img_path)\n",
        "    transfer_img_path = './static/images/nst_result/'+str(transfer_img.split('/')[-1])\n",
        "\n",
        "  return render_template('nst_post.html', \n",
        "          refer_img=refer_img_path, user_img=user_img_path, transfer_img=transfer_img_path)"
      ],
      "execution_count": null,
      "outputs": []
    },
    {
      "cell_type": "markdown",
      "metadata": {
        "id": "u9xJlDjzU0ID"
      },
      "source": [
        "Run python app.  The \"ngrok\" library provides public address that anyone can visit."
      ]
    },
    {
      "cell_type": "code",
      "metadata": {
        "colab": {
          "base_uri": "https://localhost:8080/"
        },
        "id": "LpUG0OHZr6H8",
        "outputId": "d912f80f-1dad-4986-ed48-7a7eee69c0ec"
      },
      "source": [
        "if __name__ == \"__main__\":\n",
        "\tapp.run()\n",
        "  #app.run(host='0.0.0.0')"
      ],
      "execution_count": null,
      "outputs": [
        {
          "output_type": "stream",
          "text": [
            " * Serving Flask app \"__main__\" (lazy loading)\n",
            " * Environment: production\n",
            "\u001b[31m   WARNING: This is a development server. Do not use it in a production deployment.\u001b[0m\n",
            "\u001b[2m   Use a production WSGI server instead.\u001b[0m\n",
            " * Debug mode: off\n"
          ],
          "name": "stdout"
        },
        {
          "output_type": "stream",
          "text": [
            " * Running on http://127.0.0.1:5000/ (Press CTRL+C to quit)\n"
          ],
          "name": "stderr"
        },
        {
          "output_type": "stream",
          "text": [
            " * Running on http://ac4cf24b84e7.ngrok.io\n",
            " * Traffic stats available on http://127.0.0.1:4040\n"
          ],
          "name": "stdout"
        },
        {
          "output_type": "stream",
          "text": [
            "127.0.0.1 - - [18/Jun/2021 13:04:43] \"\u001b[37mGET / HTTP/1.1\u001b[0m\" 200 -\n",
            "127.0.0.1 - - [18/Jun/2021 13:04:43] \"\u001b[37mGET /static/styles.css HTTP/1.1\u001b[0m\" 200 -\n",
            "127.0.0.1 - - [18/Jun/2021 13:04:44] \"\u001b[37mGET /static/images/nst_get/the_stary_night.JPG HTTP/1.1\u001b[0m\" 200 -\n",
            "127.0.0.1 - - [18/Jun/2021 13:04:44] \"\u001b[37mGET /static/images/nst_get/rain_princess.JPG HTTP/1.1\u001b[0m\" 200 -\n",
            "127.0.0.1 - - [18/Jun/2021 13:04:44] \"\u001b[37mGET /static/images/nst_get/scream.JPG HTTP/1.1\u001b[0m\" 200 -\n",
            "127.0.0.1 - - [18/Jun/2021 13:04:44] \"\u001b[37mGET /static/images/nst_get/zentangle_art.JPG HTTP/1.1\u001b[0m\" 200 -\n",
            "127.0.0.1 - - [18/Jun/2021 13:04:45] \"\u001b[37mGET /static/favicon.ico HTTP/1.1\u001b[0m\" 200 -\n",
            "127.0.0.1 - - [18/Jun/2021 13:04:47] \"\u001b[37mGET /company HTTP/1.1\u001b[0m\" 200 -\n",
            "127.0.0.1 - - [18/Jun/2021 13:04:47] \"\u001b[37mGET /static/images/company1.png HTTP/1.1\u001b[0m\" 200 -\n",
            "127.0.0.1 - - [18/Jun/2021 13:04:47] \"\u001b[37mGET /static/images/company2.png HTTP/1.1\u001b[0m\" 200 -\n",
            "127.0.0.1 - - [18/Jun/2021 13:05:25] \"\u001b[37mGET /company HTTP/1.1\u001b[0m\" 200 -\n",
            "127.0.0.1 - - [18/Jun/2021 13:05:29] \"\u001b[37mGET /product HTTP/1.1\u001b[0m\" 200 -\n",
            "127.0.0.1 - - [18/Jun/2021 13:05:29] \"\u001b[37mGET /static/images/product1.png HTTP/1.1\u001b[0m\" 200 -\n",
            "127.0.0.1 - - [18/Jun/2021 13:06:08] \"\u001b[37mGET /product HTTP/1.1\u001b[0m\" 200 -\n",
            "127.0.0.1 - - [18/Jun/2021 13:06:08] \"\u001b[37mGET /static/images/product2.png HTTP/1.1\u001b[0m\" 200 -\n",
            "127.0.0.1 - - [18/Jun/2021 13:06:09] \"\u001b[37mGET /static/favicon.ico HTTP/1.1\u001b[0m\" 200 -\n",
            "127.0.0.1 - - [18/Jun/2021 13:06:32] \"\u001b[37mGET /company HTTP/1.1\u001b[0m\" 200 -\n",
            "127.0.0.1 - - [18/Jun/2021 13:06:36] \"\u001b[37mGET /product HTTP/1.1\u001b[0m\" 200 -\n"
          ],
          "name": "stderr"
        }
      ]
    }
  ]
}