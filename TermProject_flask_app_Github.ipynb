{
  "nbformat": 4,
  "nbformat_minor": 0,
  "metadata": {
    "colab": {
      "name": "TermProject_flask_app_Github.ipynb",
      "provenance": [],
      "collapsed_sections": [],
      "toc_visible": true,
      "include_colab_link": true
    },
    "kernelspec": {
      "display_name": "Python 3",
      "name": "python3"
    },
    "language_info": {
      "name": "python"
    },
    "accelerator": "GPU"
  },
  "cells": [
    {
      "cell_type": "markdown",
      "metadata": {
        "id": "view-in-github",
        "colab_type": "text"
      },
      "source": [
        "<a href=\"https://colab.research.google.com/github/amimoon/AI_DeepLearning_Personal_Project/blob/main/TermProject_flask_app_Github.ipynb\" target=\"_parent\"><img src=\"https://colab.research.google.com/assets/colab-badge.svg\" alt=\"Open In Colab\"/></a>"
      ]
    },
    {
      "cell_type": "markdown",
      "metadata": {
        "id": "adwDPtSkO85k"
      },
      "source": [
        "# Flask Website Example\n",
        "\n",
        "You can develop a simple web server using Colab and python Flask framework. Vanilla Colab cannot be used for public deployement, but we can build a temporary server using Flask-Ngrok library."
      ]
    },
    {
      "cell_type": "code",
      "metadata": {
        "id": "7AHcqWDsmKyQ",
        "colab": {
          "base_uri": "https://localhost:8080/"
        },
        "outputId": "00f8b877-cd9e-4f24-fdff-342dc1596233"
      },
      "source": [
        "!pip install flask-ngrok"
      ],
      "execution_count": null,
      "outputs": [
        {
          "output_type": "stream",
          "text": [
            "Requirement already satisfied: flask-ngrok in /usr/local/lib/python3.7/dist-packages (0.0.25)\n",
            "Requirement already satisfied: Flask>=0.8 in /usr/local/lib/python3.7/dist-packages (from flask-ngrok) (1.1.4)\n",
            "Requirement already satisfied: requests in /usr/local/lib/python3.7/dist-packages (from flask-ngrok) (2.23.0)\n",
            "Requirement already satisfied: Werkzeug<2.0,>=0.15 in /usr/local/lib/python3.7/dist-packages (from Flask>=0.8->flask-ngrok) (1.0.1)\n",
            "Requirement already satisfied: click<8.0,>=5.1 in /usr/local/lib/python3.7/dist-packages (from Flask>=0.8->flask-ngrok) (7.1.2)\n",
            "Requirement already satisfied: itsdangerous<2.0,>=0.24 in /usr/local/lib/python3.7/dist-packages (from Flask>=0.8->flask-ngrok) (1.1.0)\n",
            "Requirement already satisfied: Jinja2<3.0,>=2.10.1 in /usr/local/lib/python3.7/dist-packages (from Flask>=0.8->flask-ngrok) (2.11.3)\n",
            "Requirement already satisfied: idna<3,>=2.5 in /usr/local/lib/python3.7/dist-packages (from requests->flask-ngrok) (2.10)\n",
            "Requirement already satisfied: chardet<4,>=3.0.2 in /usr/local/lib/python3.7/dist-packages (from requests->flask-ngrok) (3.0.4)\n",
            "Requirement already satisfied: certifi>=2017.4.17 in /usr/local/lib/python3.7/dist-packages (from requests->flask-ngrok) (2021.5.30)\n",
            "Requirement already satisfied: urllib3!=1.25.0,!=1.25.1,<1.26,>=1.21.1 in /usr/local/lib/python3.7/dist-packages (from requests->flask-ngrok) (1.24.3)\n",
            "Requirement already satisfied: MarkupSafe>=0.23 in /usr/local/lib/python3.7/dist-packages (from Jinja2<3.0,>=2.10.1->Flask>=0.8->flask-ngrok) (2.0.1)\n"
          ],
          "name": "stdout"
        }
      ]
    },
    {
      "cell_type": "code",
      "metadata": {
        "colab": {
          "base_uri": "https://localhost:8080/",
          "height": 35
        },
        "id": "laFF6X1DNt4m",
        "outputId": "159ba793-f365-456f-e261-8a7a95af5fd4"
      },
      "source": [
        "'''\n",
        "import shutil\n",
        "\n",
        "shutil.rmtree('/content/DeepLearning_TermProject/', ignore_errors=False)\n",
        "'''"
      ],
      "execution_count": null,
      "outputs": [
        {
          "output_type": "execute_result",
          "data": {
            "application/vnd.google.colaboratory.intrinsic+json": {
              "type": "string"
            },
            "text/plain": [
              "\"\\nimport shutil\\n\\nshutil.rmtree('/content/DeepLearning_TermProject/', ignore_errors=False)\\n\""
            ]
          },
          "metadata": {
            "tags": []
          },
          "execution_count": 68
        }
      ]
    },
    {
      "cell_type": "code",
      "metadata": {
        "colab": {
          "base_uri": "https://localhost:8080/"
        },
        "id": "8a9vLsbDOCzf",
        "outputId": "13a7d008-e817-4b2d-87a1-32ccfa0b46da"
      },
      "source": [
        "%cd /content"
      ],
      "execution_count": null,
      "outputs": [
        {
          "output_type": "stream",
          "text": [
            "/content\n"
          ],
          "name": "stdout"
        }
      ]
    },
    {
      "cell_type": "code",
      "metadata": {
        "id": "YyZ_BMyLIAuo",
        "colab": {
          "base_uri": "https://localhost:8080/"
        },
        "outputId": "25385d69-6eb8-40e8-a34b-792aec01352a"
      },
      "source": [
        "import os\n",
        "if not os.path.exists('DeepLearning_TermProject'):\n",
        "  !git clone https://github.com/MSD-AI/DeepLearning_TermProject.git"
      ],
      "execution_count": null,
      "outputs": [
        {
          "output_type": "stream",
          "text": [
            "Cloning into 'DeepLearning_TermProject'...\n",
            "remote: Enumerating objects: 123, done.\u001b[K\n",
            "remote: Counting objects: 100% (123/123), done.\u001b[K\n",
            "remote: Compressing objects: 100% (109/109), done.\u001b[K\n",
            "remote: Total 123 (delta 27), reused 0 (delta 0), pack-reused 0\u001b[K\n",
            "Receiving objects: 100% (123/123), 45.89 MiB | 22.00 MiB/s, done.\n",
            "Resolving deltas: 100% (27/27), done.\n"
          ],
          "name": "stdout"
        }
      ]
    },
    {
      "cell_type": "code",
      "metadata": {
        "id": "4tPJZucIdSli",
        "colab": {
          "base_uri": "https://localhost:8080/",
          "height": 35
        },
        "outputId": "d8b3a232-7675-45b7-c11b-b66ac02fb388"
      },
      "source": [
        "'''\n",
        "import os\n",
        "if not os.path.exists('templates'):\n",
        "  os.makedirs('templates')\n",
        "if not os.path.exists('static'):\n",
        "  os.makedirs('static')\n",
        "'''"
      ],
      "execution_count": null,
      "outputs": [
        {
          "output_type": "execute_result",
          "data": {
            "application/vnd.google.colaboratory.intrinsic+json": {
              "type": "string"
            },
            "text/plain": [
              "\"\\nimport os\\nif not os.path.exists('templates'):\\n  os.makedirs('templates')\\nif not os.path.exists('static'):\\n  os.makedirs('static')\\n\""
            ]
          },
          "metadata": {
            "tags": []
          },
          "execution_count": 71
        }
      ]
    },
    {
      "cell_type": "markdown",
      "metadata": {
        "id": "iDCNacKrevzR"
      },
      "source": [
        "# 새 섹션"
      ]
    },
    {
      "cell_type": "code",
      "metadata": {
        "colab": {
          "base_uri": "https://localhost:8080/"
        },
        "id": "xWdx1BnPJyJz",
        "outputId": "9578e5fa-7903-4b44-9893-b31f6765f6cc"
      },
      "source": [
        "% cd /content/DeepLearning_TermProject"
      ],
      "execution_count": null,
      "outputs": [
        {
          "output_type": "stream",
          "text": [
            "/content/DeepLearning_TermProject\n"
          ],
          "name": "stdout"
        }
      ]
    },
    {
      "cell_type": "code",
      "metadata": {
        "id": "RaVb0EcRsgxL"
      },
      "source": [
        "import new_style_transfer\n",
        "from flask import Flask, redirect, url_for, render_template, request, session\n",
        "from datetime import timedelta"
      ],
      "execution_count": null,
      "outputs": []
    },
    {
      "cell_type": "markdown",
      "metadata": {
        "id": "AP1fy-9mRobA"
      },
      "source": [
        "Import os to make temporary directories."
      ]
    },
    {
      "cell_type": "markdown",
      "metadata": {
        "id": "9ljdDZqOSpPJ"
      },
      "source": [
        "Import required libraries from Flask. Flask is already installed in Colab."
      ]
    },
    {
      "cell_type": "code",
      "metadata": {
        "id": "uijoBi_IsOWX"
      },
      "source": [
        "from flask_ngrok import run_with_ngrok\n",
        "import os, sys\n",
        "from flask import Flask, escape, request,  Response, g, make_response\n",
        "from flask.templating import render_template"
      ],
      "execution_count": null,
      "outputs": []
    },
    {
      "cell_type": "markdown",
      "metadata": {
        "id": "0wW51ggKTKHb"
      },
      "source": [
        "Import ngrok utility."
      ]
    },
    {
      "cell_type": "markdown",
      "metadata": {
        "id": "HZYOYcC10dGl"
      },
      "source": [
        ""
      ]
    },
    {
      "cell_type": "code",
      "metadata": {
        "id": "IcgYiIGemsmP"
      },
      "source": [
        "template_folder = './template' # 임의의 경로\n",
        "static_folder = './static' # 임의의 경로\n",
        "\n",
        "'''\n",
        "app = Flask(__name__, template_folder=template_folder, static_folder = static_folder)\n",
        "'''\n",
        "\n",
        "app = Flask(__name__)\n",
        "#app.config['JSON_AS_ASCII'] = False\n",
        "#app.debug = True\n",
        "run_with_ngrok(app)\n",
        "app.secret_key = \"thisisasecret\"\n",
        "app.permanent_session_lifetime = timedelta(minutes=5)"
      ],
      "execution_count": null,
      "outputs": []
    },
    {
      "cell_type": "markdown",
      "metadata": {
        "id": "YOKqGZVGSvlb"
      },
      "source": [
        ""
      ]
    },
    {
      "cell_type": "markdown",
      "metadata": {
        "id": "iNG79O0vTiaO"
      },
      "source": [
        "We put \"base.html\" file to \"templates\" directory. This file is used as base templete of the pages of this website. It includes \"Bootstrap4\" framework developed by Twitter."
      ]
    },
    {
      "cell_type": "code",
      "metadata": {
        "id": "QZxzjZTUjUTF"
      },
      "source": [
        "text = '''\n",
        "<!DOCTYPE html>\n",
        "<html lang=\"ko\">\n",
        "<head>\n",
        "\t<title>Flask for Deep ConvNet</title>\n",
        "\t<meta charset=\"UTF-8\">\n",
        "\t<meta name=\"viewport\" content=\"width=device-width, initial-scale=1.0\">\n",
        "\t<meta http-equiv=\"X-UA-Compatible\" content=\"ie=edge\">\n",
        "\t<link rel=\"stylesheet\" href=\"https://stackpath.bootstrapcdn.com/bootstrap/4.4.1/css/bootstrap.min.css\" integrity=\"sha384-Vkoo8x4CGsO3+Hhxv8T/Q5PaXtkKtu6ug5TOeNV6gBiFeWPGFN9MuhOf23Q9Ifjh\" crossorigin=\"anonymous\">\n",
        "</head>\n",
        "<script src=\"https://code.jquery.com/jquery-3.4.1.slim.min.js\" integrity=\"sha384-J6qa4849blE2+poT4WnyKhv5vZF5SrPo0iEjwBvKU7imGFAV0wwj1yYfoRSJoZ+n\" crossorigin=\"anonymous\"></script>\n",
        "<script src=\"https://cdn.jsdelivr.net/npm/popper.js@1.16.0/dist/umd/popper.min.js\" integrity=\"sha384-Q6E9RHvbIyZFJoft+2mJbHaEWldlvI9IOYy5n3zV9zzTtmI3UksdQRVvoxMfooAo\" crossorigin=\"anonymous\"></script>\n",
        "<script src=\"https://stackpath.bootstrapcdn.com/bootstrap/4.4.1/js/bootstrap.min.js\" integrity=\"sha384-wfSDF2E50Y2D1uUdj0O3uMBJnjuUD4Ih7YwaYd1iqfktj0Uod8GCExl3Og8ifwB6\" crossorigin=\"anonymous\"></script>\n",
        "<script>\n",
        "\t $(function(){\n",
        "\t\t$(window).scroll(function(){\n",
        "\t\tvar navbar = $(this).scrollTop();\n",
        "\t\tconsole.log(navbar);\n",
        "\t\t// var $header = $('header');\n",
        "\t\tvar $navbar_tag = $('.navbar')\n",
        "\t\tif(navbar > 10){\n",
        "\t\t\t$navbar_tag.addClass('activated');\n",
        "\t\t}else{\n",
        "\t\t\t$navbar_tag.removeClass('activated');\n",
        "\t\t}\n",
        "\t})\n",
        "\t})\n",
        "</script>\n",
        "<script type=\"text/javascript\">\n",
        "\tfunction previewImage(targetObj, view_area) {\n",
        "\tvar preview = document.getElementById(view_area); //div id\n",
        "\tvar ua = window.navigator.userAgent;\n",
        "\n",
        "\tvar files = targetObj.files;\n",
        "\tfor ( var i = 0; i < files.length; i++) {\n",
        "\t\tvar file = files[i];\n",
        "\t\tvar imageType = /image.*/; //이미지 파일일경우만.. 뿌려준다.\n",
        "\t\tif (!file.type.match(imageType))\n",
        "\t\t\tcontinue;\n",
        "\t\tvar prevImg = document.getElementById(\"prev_\" + view_area); //이전에 미리보기가 있다면 삭제\n",
        "\t\tif (prevImg) {\n",
        "\t\t\tpreview.removeChild(prevImg);\n",
        "\t\t}\n",
        "\t\tvar img = document.createElement(\"img\"); \n",
        "\t\timg.id = \"prev_\" + view_area;\n",
        "\t\timg.classList.add(\"obj\");\n",
        "\t\timg.file = file;\n",
        "\t\timg.style.width = '700px'; \n",
        "\t\timg.style.height = '400px';\n",
        "\t\tpreview.appendChild(img);\n",
        "\t\tif (window.FileReader) { // FireFox, Chrome, Opera 확인.\n",
        "\t\t\tvar reader = new FileReader();\n",
        "\t\t\treader.onloadend = (function(aImg) {\n",
        "\t\t\t\treturn function(e) {\n",
        "\t\t\t\t\taImg.src = e.target.result;\n",
        "\t\t\t\t};\n",
        "\t\t\t})(img);\n",
        "\t\t\treader.readAsDataURL(file);\n",
        "\t\t} else { // safari is not supported FileReader\n",
        "\t\t\t//alert('not supported FileReader');\n",
        "\t\t\tif (!document.getElementById(\"sfr_preview_error_\"\n",
        "\t\t\t\t\t+ view_area)) {\n",
        "\t\t\t\tvar info = document.createElement(\"p\");\n",
        "\t\t\t\tinfo.id = \"sfr_preview_error_\" + view_area;\n",
        "\t\t\t\tinfo.innerHTML = \"not supported FileReader\";\n",
        "\t\t\t\tpreview.insertBefore(info, null);\n",
        "\t\t\t}\n",
        "\t\t}\n",
        "\t}\n",
        "}\n",
        "</script>\n",
        "<style type=\"text/css\">\n",
        "\tbody{\n",
        "\t\tfont-family: Objective,sans-serif;\n",
        "\t}\n",
        "\t/*Logo*/\n",
        "\t#h_img{width: 30px; height: 30px;}\n",
        "\t/*카테고리*/\n",
        "\theader{\n",
        "\t\twidth:100%;\n",
        "\t\tposition:fixed;\n",
        "\t}\n",
        "\t.navbar{\n",
        "\t\topacity: 0.8;\n",
        "\t}\n",
        "\t.navbar.activated{\n",
        "\t\topacity: 1;\n",
        "\t}\n",
        "\t.nav-link{\n",
        "\t\tfont-weight: bold;\n",
        "\t}\n",
        "\t.side-page-main-div{\n",
        "\t\tpadding-top: 100px;\n",
        "\t}\n",
        "\n",
        "\t/*Reference Images*/\n",
        "\t.refer_img{\n",
        "\t\twidth: 100%; \n",
        "\t\theight: auto;\n",
        "\t}\n",
        "\t.refer_img:hover{opacity: 0.5; cursor: pointer;}\n",
        "\t.refer_img:onclick{opacity: 0.5; cursor: pointer;}\n",
        "\tinput[type=\"radio\"]{\n",
        "\t\twidth: 25px; \n",
        "\t\theight: 25px;\n",
        "\t}\n",
        "</style>\n",
        "<body>\n",
        "\t<!-- 상단 카테고리 -->\n",
        "\t<header>\n",
        "\t\t<nav class=\"navbar navbar-expand-lg navbar-light bg-light\">\n",
        "\t\t  <a class=\"navbar-brand\" href=\"/\"><h3 style=\"color: #8C1DF3\">Flask for DeepConvNet</h3></a>\n",
        "\t\t  <button class=\"navbar-toggler\" type=\"button\" data-toggle=\"collapse\" data-target=\"#navbarNav\" aria-controls=\"navbarNav\" aria-expanded=\"false\" aria-label=\"Toggle navigation\">\n",
        "\t\t    <span class=\"navbar-toggler-icon\"></span>\n",
        "\t\t  </button>\n",
        "\t\t  <div class=\"collapse navbar-collapse\" id=\"navbarNav\">\n",
        "\t\t    <ul class=\"navbar-nav\">\n",
        "\t\t      <li class=\"nav-item\"><a class=\"nav-link\" href=\"/\">Home <span class=\"sr-only\">(current)</span></a></li>\n",
        "\t\t      <li class=\"nav-item\"><a class=\"nav-link\" href=\"/convnet_info\">ConvNet?</a></li>\n",
        "\t\t      <li class=\"nav-item\"><a class=\"nav-link\" href=\"/object_detection_get\">Object Detection</a></li>\n",
        "\t\t      <li class=\"nav-item active\"><a class=\"nav-link\" href=\"/nst_get\">Neural Style Transfer</a></li>\n",
        "\t\t    </ul>\n",
        "\t\t  </div>\n",
        "\t\t</nav>\n",
        "\t</header>\n",
        "\t\n",
        "\t<div class=\"side-page-main-div\"></div>\n",
        "\t\t<h1 align=\"center\" style=\"color: #8C1DF3\">Neural Sytle Transfer</h1>\n",
        "\t\t<br>\n",
        "\t\t<!-- Reference Image 라디오 버튼 선택 -->\n",
        "    <form align=\"center\" action=\"/nst_post\" method=\"POST\" enctype=\"multipart/form-data\">\n",
        "        <h2 align=\"center\">Reference Images</h2>\n",
        "        <table align=\"center\">\n",
        "        \n",
        "            <tr>\n",
        "                <td><img class=\"refer_img\" id=\"refer_img1\" src=\"../static/images/nst_get/rain_princess.JPG\"></td>\n",
        "                <td><img class=\"refer_img\" id=\"refer_img2\" src=\"../static/images/nst_get/the_stary_night.JPG\"></td>\n",
        "                <td><img class=\"refer_img\" id=\"refer_img3\" src=\"../static/images/nst_get/scream.JPG\"></td>\n",
        "                <td><img class=\"refer_img\" id=\"refer_img3\" src=\"../static/images/nst_get/zentangle_art.JPG\"></td>\n",
        "            </tr>\n",
        "            <tr>\n",
        "                <td><input type=\"radio\" name=\"refer_img\" value=\"rain_princess.JPG\"></td>\n",
        "                <td><input type=\"radio\" name=\"refer_img\" value=\"the_stary_night.JPG\"></td>\n",
        "                <td><input type=\"radio\" name=\"refer_img\" value=\"scream.JPG\"></td>\n",
        "                <td><input type=\"radio\" name=\"refer_img\" value=\"zentangle_art.JPG\"></td>\n",
        "            </tr>\n",
        " \n",
        "        </table>\n",
        "        <br><br>\n",
        "        <h2 align=\"center\">Target Image</h2>\n",
        "        <div align=\"center\" id='view_area'></div>\n",
        "        <br>\n",
        "        <input type=\"file\" name=\"user_img\" id=\"user_img\" value=\"userIMgage\" onchange=\"previewImage(this,'view_area')\"/>\n",
        "        <input type=\"submit\" value=\"확인\"/>\n",
        "    </form>\n",
        "    </div>\n",
        "  <br><br><br>\n",
        " \n",
        "</body>\n",
        "</html> \n",
        "'''\n",
        "file = open(\"templates/index.html\",\"w\")\n",
        "file.write(text)\n",
        "file.close()"
      ],
      "execution_count": null,
      "outputs": []
    },
    {
      "cell_type": "markdown",
      "metadata": {
        "id": "tZhOLMlOT6yc"
      },
      "source": [
        "We put \"index.html\" file to \"templates\" directory. It will be used for home page."
      ]
    },
    {
      "cell_type": "code",
      "metadata": {
        "id": "1AYr7OCIjnvq"
      },
      "source": [
        "text = '''\n",
        "<!DOCTYPE html>\n",
        "<html lang=\"en\">\n",
        "<head>\n",
        "\t<title>Flask for Deep ConvNet</title>\n",
        "\t<meta charset=\"UTF-8\">\n",
        "\t<meta name=\"viewport\" content=\"width=device-width, initial-scale=1.0\">\n",
        "\t<meta http-equiv=\"X-UA-Compatible\" content=\"ie=edge\">\n",
        "\t<meta name=\"viewport\" content=\"width=device-width, initial-scale=1\">\n",
        "\t<link rel=\"stylesheet\" href=\"https://stackpath.bootstrapcdn.com/bootstrap/4.4.1/css/bootstrap.min.css\" integrity=\"sha384-Vkoo8x4CGsO3+Hhxv8T/Q5PaXtkKtu6ug5TOeNV6gBiFeWPGFN9MuhOf23Q9Ifjh\" crossorigin=\"anonymous\">\n",
        "</head>\n",
        "<script src=\"https://code.jquery.com/jquery-3.4.1.slim.min.js\" integrity=\"sha384-J6qa4849blE2+poT4WnyKhv5vZF5SrPo0iEjwBvKU7imGFAV0wwj1yYfoRSJoZ+n\" crossorigin=\"anonymous\"></script>\n",
        "<script src=\"https://cdn.jsdelivr.net/npm/popper.js@1.16.0/dist/umd/popper.min.js\" integrity=\"sha384-Q6E9RHvbIyZFJoft+2mJbHaEWldlvI9IOYy5n3zV9zzTtmI3UksdQRVvoxMfooAo\" crossorigin=\"anonymous\"></script>\n",
        "<script src=\"https://stackpath.bootstrapcdn.com/bootstrap/4.4.1/js/bootstrap.min.js\" integrity=\"sha384-wfSDF2E50Y2D1uUdj0O3uMBJnjuUD4Ih7YwaYd1iqfktj0Uod8GCExl3Og8ifwB6\" crossorigin=\"anonymous\"></script>\n",
        "<script>\n",
        "\t $(function(){\n",
        "\t\t$(window).scroll(function(){\n",
        "\t\tvar navbar = $(this).scrollTop();\n",
        "\t\tconsole.log(navbar);\n",
        "\t\t// var $header = $('header');\n",
        "\t\tvar $navbar_tag = $('.navbar')\n",
        "\t\tif(navbar > 10){\n",
        "\t\t\t$navbar_tag.addClass('activated');\n",
        "\t\t}else{\n",
        "\t\t\t$navbar_tag.removeClass('activated');\n",
        "\t\t}\n",
        "\t})\n",
        "\t})\n",
        "\n",
        "</script>\n",
        "\n",
        "<style type=\"text/css\">\n",
        "\tbody{\n",
        "\t\tfont-family: Objective,sans-serif;\n",
        "\t}\n",
        "\t/*Logo*/\n",
        "\t#h_img{width: 30px; height: 30px;}\n",
        "\t/*카테고리*/\n",
        "\theader{\n",
        "\t\twidth:100%;\n",
        "\t\tposition:fixed;\n",
        "\t}\n",
        "\t.navbar{\n",
        "\t\topacity: 0.8;\n",
        "\t}\n",
        "\t.navbar.activated{\n",
        "\t\topacity: 1;\n",
        "\t}\n",
        "\t.nav-link{\n",
        "\t\tfont-weight: bold;\n",
        "\t}\n",
        "\n",
        "\t.side-page-main-div{\n",
        "\t\tpadding-top: 100px;\n",
        "\t}\n",
        "\n",
        "\t.nst_img{\n",
        "\t\twidth: 350px; \n",
        "\t\theight: 250px;\n",
        "\t}\n",
        "\t.nst_result_img{\n",
        "\t\twidth: 800px; \n",
        "\t\theight: 500px;\n",
        "\t}\n",
        "</style>\n",
        "<body>\n",
        "\t<!-- 상단 카테고리 -->\n",
        "\t<header>\n",
        "\t\t<nav class=\"navbar navbar-expand-lg navbar-light bg-light\">\n",
        "\t\t  <a class=\"navbar-brand\" href=\"/\"><h3 style=\"color: #8C1DF3\">Flask for DeepConvNet</h3></a>\n",
        "\t\t  <button class=\"navbar-toggler\" type=\"button\" data-toggle=\"collapse\" data-target=\"#navbarNav\" aria-controls=\"navbarNav\" aria-expanded=\"false\" aria-label=\"Toggle navigation\">\n",
        "\t\t    <span class=\"navbar-toggler-icon\"></span>\n",
        "\t\t  </button>\n",
        "\t\t  <div class=\"collapse navbar-collapse\" id=\"navbarNav\">\n",
        "\t\t    <ul class=\"navbar-nav\">\n",
        "\t\t      <li class=\"nav-item active\"><a class=\"nav-link\" href=\"/\">Home <span class=\"sr-only\">(current)</span></a></li>\n",
        "\t\t      <li class=\"nav-item\"><a class=\"nav-link\" href=\"/convnet_info\">ConvNet?</a></li>\n",
        "\t\t      <li class=\"nav-item\"><a class=\"nav-link\" href=\"/object_detection_get\">Object Detection</a></li>\n",
        "\t\t      <li class=\"nav-item\"><a class=\"nav-link\" href=\"/nst_get\">Neural Style Transfer</a></li>\n",
        "\t\t    </ul>\n",
        "\t\t  </div>\n",
        "\t\t</nav>\n",
        "\t</header>\n",
        "\t<!-- 선택한 Refer/Target 이미지 및 Transfer 이미지 -->\n",
        "\t<div class=\"side-page-main-div\">\n",
        "\t\t<table align=\"center\">\n",
        "\t\t\t<tr>\n",
        "\t\t\t\t<td><h2 align=\"center\">Reference Image</h2></td>\n",
        "\t\t\t\t<td><h2 align=\"center\">Target Image</h2></td>\n",
        "\t\t\t</tr>\n",
        "\t\t\t<tr align=\"center\">\n",
        "        <!--\n",
        "\t\t\t\t<td><img class='nst_img' src=\"{{url_for('static', filename=refer_img)}}\"></td>\n",
        "\t\t\t\t<td><img class='nst_img' src=\"{{url_for('static', filename=user_img)}}\"></td>\n",
        "        </tr>\n",
        "\t\t\t\t<td colspan=\"2\" align=\"center\"><img class=\"nst_result_img\" src=\"{{url_for('static', filename=transfer_img)}}\"></td>     \n",
        "        -->\n",
        "\t\t\t\t<td><img class='nst_img' src=\"{{refer_img}}\"></td>\n",
        "\t\t\t\t<td><img class='nst_img' src=\"{{user_img}}\"></td>\n",
        "\t\t\t</tr>\n",
        "\t\t\t\t<td colspan=\"2\" align=\"center\"><img class=\"nst_result_img\" src=\"{{transfer_img}}\"></td>     \n",
        "\t\t\t<tr>\n",
        "\t\t\t</tr>\n",
        "\t\t</table>\n",
        "\t</div>\n",
        "\t<br>\n",
        "</body>\n",
        "</html>\n",
        "'''\n",
        "file = open(\"templates/nst_post.html\",\"w\")\n",
        "file.write(text)\n",
        "file.close()"
      ],
      "execution_count": null,
      "outputs": []
    },
    {
      "cell_type": "markdown",
      "metadata": {
        "id": "CYFSC-sKUHjy"
      },
      "source": [
        "We put \"login.html\" file to \"templates\" directory. It will be used for login page."
      ]
    },
    {
      "cell_type": "code",
      "metadata": {
        "id": "_vq54CrNm2XM"
      },
      "source": [
        "# Main page\n",
        "@app.route('/')\n",
        "def index():\n",
        "    return render_template('index.html')"
      ],
      "execution_count": null,
      "outputs": []
    },
    {
      "cell_type": "markdown",
      "metadata": {
        "id": "gkIzR8x8UbvV"
      },
      "source": [
        "A function for home \"/\" route."
      ]
    },
    {
      "cell_type": "markdown",
      "metadata": {
        "id": "LUdROUflUiyp"
      },
      "source": [
        "A function for \"/login\" route."
      ]
    },
    {
      "cell_type": "code",
      "metadata": {
        "id": "cZBKfG9tU5pt"
      },
      "source": [
        "@app.route('/nst_post', methods=['GET','POST'])\n",
        "def nst_post():\n",
        "  if request.method == 'POST':\n",
        "    #root_path()\n",
        "\n",
        "    # Reference Image\n",
        "    refer_img = request.form['refer_img']\n",
        "    refer_img_path = './static/images/nst_get/'+str(refer_img)\n",
        "\n",
        "    # User Image (target image)\n",
        "    user_img = request.files['user_img']\n",
        "    user_img.save('./static/images/nst_get/user/'+str(user_img.filename))\n",
        "    user_img_path = './static/images/nst_get/user/'+str(user_img.filename)\n",
        "\n",
        "    # Neural Style Transfer \n",
        "    #transfer_img = neural_style_transfer.main(refer_img_path, user_img_path)\n",
        "    transfer_img = new_style_transfer.main(refer_img_path, user_img_path)\n",
        "    transfer_img_path = './static/images/nst_result/'+str(transfer_img.split('/')[-1])\n",
        "\n",
        "  return render_template('nst_post.html', \n",
        "          refer_img=refer_img_path, user_img=user_img_path, transfer_img=transfer_img_path)"
      ],
      "execution_count": null,
      "outputs": []
    },
    {
      "cell_type": "markdown",
      "metadata": {
        "id": "u9xJlDjzU0ID"
      },
      "source": [
        "Run python app.  The \"ngrok\" library provides public address that anyone can visit."
      ]
    },
    {
      "cell_type": "code",
      "metadata": {
        "id": "YpTnw1abVT9c"
      },
      "source": [
        "#!ngrok http 127.0.0.1:5000\n",
        "#!ngrok http 127.0.0.1:5000 -host-header=\"127.0.0.1:5000\"\n",
        "#!ngrok http https://localhost:5000 -host-header=\"localhost:5000\""
      ],
      "execution_count": null,
      "outputs": []
    },
    {
      "cell_type": "code",
      "metadata": {
        "id": "LpUG0OHZr6H8",
        "colab": {
          "base_uri": "https://localhost:8080/"
        },
        "outputId": "4485cbba-403f-4634-d539-d84e0e488e2d"
      },
      "source": [
        "if __name__ == \"__main__\":\n",
        "\tapp.run()\n",
        "  #app.run(host='0.0.0.0')"
      ],
      "execution_count": null,
      "outputs": [
        {
          "output_type": "stream",
          "text": [
            " * Serving Flask app \"__main__\" (lazy loading)\n",
            " * Environment: production\n",
            "\u001b[31m   WARNING: This is a development server. Do not use it in a production deployment.\u001b[0m\n",
            "\u001b[2m   Use a production WSGI server instead.\u001b[0m\n",
            " * Debug mode: off\n"
          ],
          "name": "stdout"
        },
        {
          "output_type": "stream",
          "text": [
            " * Running on http://127.0.0.1:5000/ (Press CTRL+C to quit)\n"
          ],
          "name": "stderr"
        },
        {
          "output_type": "stream",
          "text": [
            " * Running on http://31803930a5ee.ngrok.io\n",
            " * Traffic stats available on http://127.0.0.1:4040\n"
          ],
          "name": "stdout"
        },
        {
          "output_type": "stream",
          "text": [
            "127.0.0.1 - - [17/Jun/2021 04:26:48] \"\u001b[37mGET / HTTP/1.1\u001b[0m\" 200 -\n",
            "127.0.0.1 - - [17/Jun/2021 04:26:49] \"\u001b[37mGET /static/images/nst_get/rain_princess.JPG HTTP/1.1\u001b[0m\" 200 -\n",
            "127.0.0.1 - - [17/Jun/2021 04:26:49] \"\u001b[37mGET /static/images/nst_get/the_stary_night.JPG HTTP/1.1\u001b[0m\" 200 -\n",
            "127.0.0.1 - - [17/Jun/2021 04:26:50] \"\u001b[37mGET /static/images/nst_get/scream.JPG HTTP/1.1\u001b[0m\" 200 -\n",
            "127.0.0.1 - - [17/Jun/2021 04:26:50] \"\u001b[37mGET /static/images/nst_get/zentangle_art.JPG HTTP/1.1\u001b[0m\" 200 -\n",
            "127.0.0.1 - - [17/Jun/2021 04:26:50] \"\u001b[33mGET /favicon.ico HTTP/1.1\u001b[0m\" 404 -\n"
          ],
          "name": "stderr"
        }
      ]
    },
    {
      "cell_type": "code",
      "metadata": {
        "id": "GwRqfNQtWpAw"
      },
      "source": [
        "#!pip -q install streamlit\n",
        "#!ngrok http 127.0.0.1:5000"
      ],
      "execution_count": null,
      "outputs": []
    },
    {
      "cell_type": "code",
      "metadata": {
        "id": "dwe6Aa7R6D-7"
      },
      "source": [
        "'''\n",
        "from pyngrok import ngrok\n",
        "public_url = ngrok.connect(port='8080')\n",
        "print (public_url)\n",
        "!streamlit run app.py >/dev/null\n",
        "'''"
      ],
      "execution_count": null,
      "outputs": []
    }
  ]
}