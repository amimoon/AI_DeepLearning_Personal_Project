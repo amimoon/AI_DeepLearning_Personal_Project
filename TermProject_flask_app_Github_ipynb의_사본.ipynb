{
  "nbformat": 4,
  "nbformat_minor": 0,
  "metadata": {
    "colab": {
      "name": "TermProject_flask_app_Github.ipynb의 사본",
      "provenance": [],
      "collapsed_sections": [],
      "toc_visible": true,
      "include_colab_link": true
    },
    "kernelspec": {
      "display_name": "Python 3",
      "name": "python3"
    },
    "language_info": {
      "name": "python"
    },
    "accelerator": "GPU"
  },
  "cells": [
    {
      "cell_type": "markdown",
      "metadata": {
        "id": "view-in-github",
        "colab_type": "text"
      },
      "source": [
        "<a href=\"https://colab.research.google.com/github/amimoon/AI_DeepLearning_Personal_Project/blob/main/TermProject_flask_app_Github_ipynb%EC%9D%98_%EC%82%AC%EB%B3%B8.ipynb\" target=\"_parent\"><img src=\"https://colab.research.google.com/assets/colab-badge.svg\" alt=\"Open In Colab\"/></a>"
      ]
    },
    {
      "cell_type": "markdown",
      "metadata": {
        "id": "adwDPtSkO85k"
      },
      "source": [
        "# Flask Website Example\n",
        "\n",
        "You can develop a simple web server using Colab and python Flask framework. Vanilla Colab cannot be used for public deployement, but we can build a temporary server using Flask-Ngrok library."
      ]
    },
    {
      "cell_type": "code",
      "metadata": {
        "id": "7AHcqWDsmKyQ",
        "colab": {
          "base_uri": "https://localhost:8080/"
        },
        "outputId": "e15f75b4-eedc-4c9f-9f88-211637e39681"
      },
      "source": [
        "!pip install flask-ngrok"
      ],
      "execution_count": 32,
      "outputs": [
        {
          "output_type": "stream",
          "text": [
            "Requirement already satisfied: flask-ngrok in /usr/local/lib/python3.7/dist-packages (0.0.25)\n",
            "Requirement already satisfied: Flask>=0.8 in /usr/local/lib/python3.7/dist-packages (from flask-ngrok) (1.1.4)\n",
            "Requirement already satisfied: requests in /usr/local/lib/python3.7/dist-packages (from flask-ngrok) (2.23.0)\n",
            "Requirement already satisfied: itsdangerous<2.0,>=0.24 in /usr/local/lib/python3.7/dist-packages (from Flask>=0.8->flask-ngrok) (1.1.0)\n",
            "Requirement already satisfied: Werkzeug<2.0,>=0.15 in /usr/local/lib/python3.7/dist-packages (from Flask>=0.8->flask-ngrok) (1.0.1)\n",
            "Requirement already satisfied: Jinja2<3.0,>=2.10.1 in /usr/local/lib/python3.7/dist-packages (from Flask>=0.8->flask-ngrok) (2.11.3)\n",
            "Requirement already satisfied: click<8.0,>=5.1 in /usr/local/lib/python3.7/dist-packages (from Flask>=0.8->flask-ngrok) (7.1.2)\n",
            "Requirement already satisfied: urllib3!=1.25.0,!=1.25.1,<1.26,>=1.21.1 in /usr/local/lib/python3.7/dist-packages (from requests->flask-ngrok) (1.24.3)\n",
            "Requirement already satisfied: chardet<4,>=3.0.2 in /usr/local/lib/python3.7/dist-packages (from requests->flask-ngrok) (3.0.4)\n",
            "Requirement already satisfied: certifi>=2017.4.17 in /usr/local/lib/python3.7/dist-packages (from requests->flask-ngrok) (2021.5.30)\n",
            "Requirement already satisfied: idna<3,>=2.5 in /usr/local/lib/python3.7/dist-packages (from requests->flask-ngrok) (2.10)\n",
            "Requirement already satisfied: MarkupSafe>=0.23 in /usr/local/lib/python3.7/dist-packages (from Jinja2<3.0,>=2.10.1->Flask>=0.8->flask-ngrok) (2.0.1)\n"
          ],
          "name": "stdout"
        }
      ]
    },
    {
      "cell_type": "code",
      "metadata": {
        "colab": {
          "base_uri": "https://localhost:8080/",
          "height": 35
        },
        "id": "laFF6X1DNt4m",
        "outputId": "b39d3cbe-cb69-4421-ef9f-9e5a0d0bf0db"
      },
      "source": [
        "'''\n",
        "import shutil\n",
        "\n",
        "shutil.rmtree('/content/DeepLearning_TermProject/', ignore_errors=False)\n",
        "'''"
      ],
      "execution_count": 19,
      "outputs": [
        {
          "output_type": "execute_result",
          "data": {
            "application/vnd.google.colaboratory.intrinsic+json": {
              "type": "string"
            },
            "text/plain": [
              "\"\\nimport shutil\\n\\nshutil.rmtree('/content/DeepLearning_TermProject/', ignore_errors=False)\\n\""
            ]
          },
          "metadata": {
            "tags": []
          },
          "execution_count": 19
        }
      ]
    },
    {
      "cell_type": "code",
      "metadata": {
        "colab": {
          "base_uri": "https://localhost:8080/"
        },
        "id": "8a9vLsbDOCzf",
        "outputId": "78c460fa-540c-44d5-9287-6cba2f477120"
      },
      "source": [
        "%cd /content"
      ],
      "execution_count": 33,
      "outputs": [
        {
          "output_type": "stream",
          "text": [
            "/content\n"
          ],
          "name": "stdout"
        }
      ]
    },
    {
      "cell_type": "code",
      "metadata": {
        "id": "YyZ_BMyLIAuo"
      },
      "source": [
        "import os\n",
        "if not os.path.exists('DeepLearning_TermProject'):\n",
        "  !git clone https://github.com/MSD-AI/DeepLearning_TermProject.git"
      ],
      "execution_count": 34,
      "outputs": []
    },
    {
      "cell_type": "code",
      "metadata": {
        "id": "4tPJZucIdSli",
        "colab": {
          "base_uri": "https://localhost:8080/",
          "height": 35
        },
        "outputId": "da37f109-f344-4fc8-af32-563150b41386"
      },
      "source": [
        "'''\n",
        "import os\n",
        "if not os.path.exists('templates'):\n",
        "  os.makedirs('templates')\n",
        "if not os.path.exists('static'):\n",
        "  os.makedirs('static')\n",
        "'''"
      ],
      "execution_count": 22,
      "outputs": [
        {
          "output_type": "execute_result",
          "data": {
            "application/vnd.google.colaboratory.intrinsic+json": {
              "type": "string"
            },
            "text/plain": [
              "\"\\nimport os\\nif not os.path.exists('templates'):\\n  os.makedirs('templates')\\nif not os.path.exists('static'):\\n  os.makedirs('static')\\n\""
            ]
          },
          "metadata": {
            "tags": []
          },
          "execution_count": 22
        }
      ]
    },
    {
      "cell_type": "markdown",
      "metadata": {
        "id": "iDCNacKrevzR"
      },
      "source": [
        "# 새 섹션"
      ]
    },
    {
      "cell_type": "code",
      "metadata": {
        "colab": {
          "base_uri": "https://localhost:8080/"
        },
        "id": "xWdx1BnPJyJz",
        "outputId": "c20788ea-7c12-4fa5-e1bc-e2ef066ea572"
      },
      "source": [
        "% cd /content/DeepLearning_TermProject"
      ],
      "execution_count": 35,
      "outputs": [
        {
          "output_type": "stream",
          "text": [
            "/content/DeepLearning_TermProject\n"
          ],
          "name": "stdout"
        }
      ]
    },
    {
      "cell_type": "code",
      "metadata": {
        "id": "RaVb0EcRsgxL"
      },
      "source": [
        "import new_style_transfer\n",
        "from flask import Flask, redirect, url_for, render_template, request, session\n",
        "from datetime import timedelta"
      ],
      "execution_count": 36,
      "outputs": []
    },
    {
      "cell_type": "markdown",
      "metadata": {
        "id": "AP1fy-9mRobA"
      },
      "source": [
        "Import os to make temporary directories."
      ]
    },
    {
      "cell_type": "markdown",
      "metadata": {
        "id": "9ljdDZqOSpPJ"
      },
      "source": [
        "Import required libraries from Flask. Flask is already installed in Colab."
      ]
    },
    {
      "cell_type": "code",
      "metadata": {
        "id": "uijoBi_IsOWX"
      },
      "source": [
        "from flask_ngrok import run_with_ngrok\n",
        "import os, sys\n",
        "from flask import Flask, escape, request,  Response, g, make_response\n",
        "from flask.templating import render_template"
      ],
      "execution_count": 37,
      "outputs": []
    },
    {
      "cell_type": "markdown",
      "metadata": {
        "id": "0wW51ggKTKHb"
      },
      "source": [
        "Import ngrok utility."
      ]
    },
    {
      "cell_type": "markdown",
      "metadata": {
        "id": "HZYOYcC10dGl"
      },
      "source": [
        ""
      ]
    },
    {
      "cell_type": "code",
      "metadata": {
        "id": "IcgYiIGemsmP"
      },
      "source": [
        "template_folder = './template' # 임의의 경로\n",
        "static_folder = './static' # 임의의 경로\n",
        "\n",
        "'''\n",
        "app = Flask(__name__, template_folder=template_folder, static_folder = static_folder)\n",
        "'''\n",
        "\n",
        "app = Flask(__name__)\n",
        "#app.config['JSON_AS_ASCII'] = False\n",
        "#app.debug = True\n",
        "run_with_ngrok(app)\n",
        "app.secret_key = \"thisisasecret\"\n",
        "app.permanent_session_lifetime = timedelta(minutes=5)"
      ],
      "execution_count": 38,
      "outputs": []
    },
    {
      "cell_type": "markdown",
      "metadata": {
        "id": "YOKqGZVGSvlb"
      },
      "source": [
        ""
      ]
    },
    {
      "cell_type": "markdown",
      "metadata": {
        "id": "iNG79O0vTiaO"
      },
      "source": [
        "We put \"base.html\" file to \"templates\" directory. This file is used as base templete of the pages of this website. It includes \"Bootstrap4\" framework developed by Twitter."
      ]
    },
    {
      "cell_type": "code",
      "metadata": {
        "id": "QZxzjZTUjUTF"
      },
      "source": [
        "text = '''\n",
        "<!DOCTYPE html>\n",
        "<html lang=\"ko\">\n",
        "    <head>\n",
        "        <meta charset=\"utf-8\" />\n",
        "        <meta name=\"viewport\" content=\"width=device-width, initial-scale=1, shrink-to-fit=no\" />\n",
        "        <meta name=\"description\" content=\"\" />\n",
        "        <meta name=\"author\" content=\"\" />\n",
        "        <title>Term Project</title>\n",
        "        <!-- Favicon-->\n",
        "        <link rel=\"icon\" type=\"image/x-icon\" href=\"assets/favicon.ico\" />\n",
        "        <!-- Core theme CSS (includes Bootstrap)-->\n",
        "        <link href=\"css/styles.css\" rel=\"stylesheet\" />\n",
        "        <script src=\"https://code.jquery.com/jquery-3.4.1.slim.min.js\" integrity=\"sha384-J6qa4849blE2+poT4WnyKhv5vZF5SrPo0iEjwBvKU7imGFAV0wwj1yYfoRSJoZ+n\" crossorigin=\"anonymous\"></script>\n",
        "        <script src=\"https://cdn.jsdelivr.net/npm/popper.js@1.16.0/dist/umd/popper.min.js\" integrity=\"sha384-Q6E9RHvbIyZFJoft+2mJbHaEWldlvI9IOYy5n3zV9zzTtmI3UksdQRVvoxMfooAo\" crossorigin=\"anonymous\"></script>\n",
        "        <script src=\"https://stackpath.bootstrapcdn.com/bootstrap/4.4.1/js/bootstrap.min.js\" integrity=\"sha384-wfSDF2E50Y2D1uUdj0O3uMBJnjuUD4Ih7YwaYd1iqfktj0Uod8GCExl3Og8ifwB6\" crossorigin=\"anonymous\"></script>\n",
        "        <script>\n",
        "            $(function(){\n",
        "            $(window).scroll(function(){\n",
        "                var navbar = $(this).scrollTop();\n",
        "                console.log(navbar);\n",
        "                // var $header = $('header');\n",
        "                var $navbar_tag = $('.navbar')\n",
        "                if(navbar > 10){\n",
        "                    $navbar_tag.addClass('activated');\n",
        "                }\n",
        "                else{\n",
        "                    $navbar_tag.removeClass('activated');\n",
        "                    }\n",
        "                })\n",
        "            })\n",
        "        </script>\n",
        "<script type=\"text/javascript\">\n",
        "\tfunction previewImage(targetObj, view_area) {\n",
        "\tvar preview = document.getElementById(view_area); //div id\n",
        "\tvar ua = window.navigator.userAgent;\n",
        "\n",
        "\tvar files = targetObj.files;\n",
        "\tfor ( var i = 0; i < files.length; i++) {\n",
        "\t\tvar file = files[i];\n",
        "\t\tvar imageType = /image.*/; //이미지 파일일경우만.. 뿌려준다.\n",
        "\t\tif (!file.type.match(imageType))\n",
        "\t\t\tcontinue;\n",
        "\t\tvar prevImg = document.getElementById(\"prev_\" + view_area); //이전에 미리보기가 있다면 삭제\n",
        "\t\tif (prevImg) {\n",
        "\t\t\tpreview.removeChild(prevImg);\n",
        "\t\t}\n",
        "\t\tvar img = document.createElement(\"img\"); \n",
        "\t\timg.id = \"prev_\" + view_area;\n",
        "\t\timg.classList.add(\"obj\");\n",
        "\t\timg.file = file;\n",
        "\t\timg.style.width = '700px'; \n",
        "\t\timg.style.height = '400px';\n",
        "\t\tpreview.appendChild(img);\n",
        "\t\tif (window.FileReader) { // FireFox, Chrome, Opera 확인.\n",
        "\t\t\tvar reader = new FileReader();\n",
        "\t\t\treader.onloadend = (function(aImg) {\n",
        "\t\t\t\treturn function(e) {\n",
        "\t\t\t\t\taImg.src = e.target.result;\n",
        "\t\t\t\t};\n",
        "\t\t\t})(img);\n",
        "\t\t\treader.readAsDataURL(file);\n",
        "\t\t} else { // safari is not supported FileReader\n",
        "\t\t\t//alert('not supported FileReader');\n",
        "\t\t\tif (!document.getElementById(\"sfr_preview_error_\"\n",
        "\t\t\t\t\t+ view_area)) {\n",
        "\t\t\t\tvar info = document.createElement(\"p\");\n",
        "\t\t\t\tinfo.id = \"sfr_preview_error_\" + view_area;\n",
        "\t\t\t\tinfo.innerHTML = \"not supported FileReader\";\n",
        "\t\t\t\tpreview.insertBefore(info, null);\n",
        "\t\t\t}\n",
        "\t\t}\n",
        "\t}\n",
        "}\n",
        "</script>\n",
        "    </head>\n",
        "    <body>\n",
        "        <!-- Responsive navbar-->\n",
        "        <nav class=\"navbar navbar-expand-lg navbar-dark bg-dark\">\n",
        "            <div class=\"container\">\n",
        "                <a class=\"navbar-brand\" href=\"#!\">MSDS.ai</a>\n",
        "                <button class=\"navbar-toggler\" type=\"button\" data-bs-toggle=\"collapse\" data-bs-target=\"#navbarSupportedContent\" aria-controls=\"navbarSupportedContent\" aria-expanded=\"false\" aria-label=\"Toggle navigation\"><span class=\"navbar-toggler-icon\"></span></button>\n",
        "                <div class=\"collapse navbar-collapse\" id=\"navbarSupportedContent\">\n",
        "                    <ul class=\"navbar-nav ms-auto mb-2 mb-lg-0\">\n",
        "                        <li class=\"nav-item\"><a class=\"nav-link active\" aria-current=\"page\" href=\"#!\">Home</a></li>\n",
        "                        <li class=\"nav-item\"><a class=\"nav-link\" href=\"#!\">About</a></li>\n",
        "                        <li class=\"nav-item\"><a class=\"nav-link\" href=\"#!\">Contact</a></li>\n",
        "                    </ul>\n",
        "                </div>\n",
        "            </div>\n",
        "        </nav>\n",
        "        <!-- Header - set the background image for the header in the line below-->\n",
        "        <header class=\"py-5 bg-image-full\" style=\"background-image: url('https://upload.wikimedia.org/wikipedia/commons/thumb/0/01/Vincent_van_Gogh_-_Starry_Night_-_Google_Art_Project.jpg/776px-Vincent_van_Gogh_-_Starry_Night_-_Google_Art_Project.jpg')\">\n",
        "            <div class=\"text-center my-5\">\n",
        "                <h1 class=\"text-white fs-3 fw-bolder\">Nueral Style Transfer Project</h1>\n",
        "                <p class=\"text-white-50 mb-0\">경영자를위한딥러닝 </p>\n",
        "            </div>\n",
        "        </header>\n",
        "        <!-- Content section-->\n",
        "        <section class=\"py-5\">\n",
        "            <div class=\"container my-5\">\n",
        "                <div class=\"row justify-content-center\">\n",
        "                    <div class=\"col-lg-6\">\n",
        "                        <h2>인터넷 페이지 어떻게 만드는 건가요?</h2>\n",
        "                        <p class=\"lead\">딥러닝 배우러 와서 html과 씨름하는 내 신세..</p>\n",
        "                        <p class=\"mb-0\">음 여기다가는 무슨말을 쓰면 좋을까요? 조금 길게 써서 지워도 되구요.</p>\n",
        "                    </div>\n",
        "                </div>\n",
        "            </div>\n",
        "        </section>\n",
        "        <!-- 중간 제목 -->\n",
        "          <div class=\"text-center my-2\" style=\"background-image: url('https://source.unsplash.com/4ulffa6qoKA/1200x800')\">\n",
        "            <!-- Put anything you want here! The spacer below with inline CSS is just for demo purposes!-->\n",
        "                <h1 class=\"text-white fs-3 fw-bolder\">Nueral Style Transfer Project</h1>\n",
        "        </div>\n",
        "\n",
        "\t\t<!-- py model로 보낼 정보 -->\n",
        "        <form class=form-select align=\"center\" action=\"/nst_post\" method=\"POST\" enctype=\"multipart/form-data\">\n",
        "            <!--Reference Image 선택하기-->\n",
        "            <h2 align=\"center\">Reference Images</h2>\n",
        "            <p class='mb-1'> 스타일을 참조할 이미지를 선택해주세요.</p>\n",
        "            <table align=\"center\">\n",
        "                <tr>\n",
        "                    <td><img class=\"refer_img\" id=\"refer_img1\" src=\"https://raw.githubusercontent.com/MSD-AI/DeepLearning_TermProject/main/static/images/nst_get/rain_princess.JPG\" ></td>\n",
        "                    <td><img class=\"refer_img\" id=\"refer_img2\" src=\"https://raw.githubusercontent.com/MSD-AI/DeepLearning_TermProject/main/static/images/nst_get/the_stary_night.JPG\"></td>\n",
        "                    <td><img class=\"refer_img\" id=\"refer_img3\" src=\"https://raw.githubusercontent.com/MSD-AI/DeepLearning_TermProject/main/static/images/nst_get/scream.JPG\"></td>\n",
        "                    <td><img class=\"refer_img\" id=\"refer_img4\" src=\"https://raw.githubusercontent.com/MSD-AI/DeepLearning_TermProject/main/static/images/nst_get/zentangle_art.JPG\"></td>\n",
        "                </tr>\n",
        "                <tr>\n",
        "                    <td><input type=\"radio\" name=\"refer_img\" value=\"rain_princess.JPG\"></td>\n",
        "                    <td><input type=\"radio\" name=\"refer_img\" value=\"the_stary_night.JPG\"></td>\n",
        "                    <td><input type=\"radio\" name=\"refer_img\" value=\"scream.JPG\"></td>\n",
        "                    <td><input type=\"radio\" name=\"refer_img\" value=\"zentangle_art.JPG\"></td>\n",
        "                </tr>\n",
        "            </table>\n",
        "            \n",
        "            <!--사용자 이미지 업로드-->\n",
        "            <h2 align=\"center\">Target Image</h2>\n",
        "            <p class='mb-0'>스타일을 바꿀 이미지를 업로드해주세요.</p>\n",
        "                <div align=\"center\" id='view_area'></div>\n",
        "            <br>\n",
        "            <div>\n",
        "                <input type=\"file\" name=\"user_img\" id=\"user_img\" value=\"userIMgage\" onchange=\"previewImage(this,'view_area')\"/>\n",
        "            </div>\n",
        "        <!--<input type=\"submit\" value=\"이미지 변환하기\"/><br><br>-->\n",
        "            <div><button type=\"button\" class=\"btn btn-primary\">이미지변환</button></div>\n",
        "        </form>\n",
        "        <!-- Footer-->\n",
        "        <footer class=\"py-5 bg-dark\">\n",
        "            <div class=\"container\"><p class=\"m-0 text-center text-white\">Copyright &copy; MSDS.ai 2021</p></div>\n",
        "        </footer>  \n",
        "        <!-- Bootstrap core JS-->\n",
        "        <script src=\"https://cdn.jsdelivr.net/npm/bootstrap@5.0.1/dist/js/bootstrap.bundle.min.js\"></script>\n",
        "        <!-- Core theme JS-->\n",
        "        <script src=\"js/scripts.js\"></script>\n",
        "    </body>\n",
        "</html>\n",
        "'''\n",
        "file = open(\"templates/index.html\",\"w\")\n",
        "file.write(text)\n",
        "file.close()"
      ],
      "execution_count": 39,
      "outputs": []
    },
    {
      "cell_type": "markdown",
      "metadata": {
        "id": "tZhOLMlOT6yc"
      },
      "source": [
        "We put \"index.html\" file to \"templates\" directory. It will be used for home page."
      ]
    },
    {
      "cell_type": "code",
      "metadata": {
        "id": "1AYr7OCIjnvq"
      },
      "source": [
        "text = '''\n",
        "<!DOCTYPE html>\n",
        "<html lang=\"en\">\n",
        "    <head>\n",
        "        <meta charset=\"utf-8\" />\n",
        "        <meta name=\"viewport\" content=\"width=device-width, initial-scale=1, shrink-to-fit=no\" />\n",
        "        <meta name=\"description\" content=\"\" />\n",
        "        <meta name=\"author\" content=\"\" />\n",
        "        <title>Term Project</title>\n",
        "        <!-- Favicon-->\n",
        "        <link rel=\"icon\" type=\"image/x-icon\" href=\"assets/favicon.ico\" />\n",
        "        <!-- Core theme CSS (includes Bootstrap)-->\n",
        "        <link href=\"css/styles.css\" rel=\"stylesheet\" />\n",
        "    </head>\n",
        "    <body>\n",
        "        <!-- Responsive navbar-->\n",
        "        <nav class=\"navbar navbar-expand-lg navbar-dark bg-dark\">\n",
        "            <div class=\"container\">\n",
        "                <a class=\"navbar-brand\" href=\"#!\">MSDS.AI</a>\n",
        "                <button class=\"navbar-toggler\" type=\"button\" data-bs-toggle=\"collapse\" data-bs-target=\"#navbarSupportedContent\" aria-controls=\"navbarSupportedContent\" aria-expanded=\"false\" aria-label=\"Toggle navigation\"><span class=\"navbar-toggler-icon\"></span></button>\n",
        "                <div class=\"collapse navbar-collapse\" id=\"navbarSupportedContent\">\n",
        "                    <ul class=\"navbar-nav ms-auto mb-2 mb-lg-0\">\n",
        "                        <li class=\"nav-item\"><a class=\"nav-link active\" aria-current=\"page\" href=\"#!\">Home</a></li>\n",
        "                        <li class=\"nav-item\"><a class=\"nav-link\" href=\"#!\">About</a></li>\n",
        "                        <li class=\"nav-item\"><a class=\"nav-link\" href=\"#!\">Contact</a></li>\n",
        "                    </ul>\n",
        "                </div>\n",
        "            </div>\n",
        "        </nav>\n",
        "        <!-- Header - set the background image for the header in the line below-->\n",
        "        <header class=\"py-5 bg-image-full\" style=\"background-image: url('https://upload.wikimedia.org/wikipedia/commons/thumb/0/01/Vincent_van_Gogh_-_Starry_Night_-_Google_Art_Project.jpg/776px-Vincent_van_Gogh_-_Starry_Night_-_Google_Art_Project.jpg')\">\n",
        "            <div class=\"text-center my-5\">\n",
        "                <h1 class=\"text-white fs-3 fw-bolder\">Nueral Style Transfer Project</h1>\n",
        "                <p class=\"text-white-50 mb-0\">경영자를위한딥러닝 </p>\n",
        "            </div>\n",
        "        </header>\n",
        "\n",
        "\t\n",
        "        <!-- 선택한 Refer/Target 이미지 및 Transfer 이미지 -->\n",
        "        <div class=\"side-page-main-div\">\n",
        "            <table align=\"center\">\n",
        "                <tr>\n",
        "                    <td><h2 align=\"center\">Reference Image</h2></td>\n",
        "                    <td><h2 align=\"center\">Target Image</h2></td>\n",
        "                </tr>\n",
        "                <tr align=\"center\">\n",
        "                    <td><img class='nst_img' src=\"{{refer_img}}\" alt='reference image'></td>\n",
        "                    <td><img class='nst_img' src=\"{{user_img}}\" alt='target image'></td>\n",
        "            </table>\n",
        "            <table align=\"center\">\n",
        "                </tr>\n",
        "                    <td><h2 align=\"center\">Transfer Image</h2></td>\t\t\t\t     \n",
        "                <tr>\n",
        "                    <td align=\"center\"><img class=\"nst_result_img\" src=\"{{transfer_img}}\"alt='transfer image'></td>\n",
        "                </tr>\n",
        "            </table>\n",
        "        </div>\n",
        "        <br>\n",
        "        <!-- Footer-->\n",
        "        <footer class=\"py-5 bg-dark\">\n",
        "            <div class=\"container\"><p class=\"m-0 text-center text-white\">Copyright &copy; MSDS.ai 2021</p></div>\n",
        "        </footer>  \n",
        "        <!-- Bootstrap core JS-->\n",
        "        <script src=\"https://cdn.jsdelivr.net/npm/bootstrap@5.0.1/dist/js/bootstrap.bundle.min.js\"></script>\n",
        "        <!-- Core theme JS-->\n",
        "        <script src=\"js/scripts.js\"></script>\n",
        "    </body>\n",
        "</html>\n",
        "'''\n",
        "file = open(\"templates/nst_post.html\",\"w\")\n",
        "file.write(text)\n",
        "file.close()"
      ],
      "execution_count": 40,
      "outputs": []
    },
    {
      "cell_type": "markdown",
      "metadata": {
        "id": "CYFSC-sKUHjy"
      },
      "source": [
        "We put \"login.html\" file to \"templates\" directory. It will be used for login page."
      ]
    },
    {
      "cell_type": "code",
      "metadata": {
        "id": "_vq54CrNm2XM"
      },
      "source": [
        "# Main page\n",
        "@app.route('/')\n",
        "def index():\n",
        "    return render_template('index.html')"
      ],
      "execution_count": 41,
      "outputs": []
    },
    {
      "cell_type": "markdown",
      "metadata": {
        "id": "gkIzR8x8UbvV"
      },
      "source": [
        "A function for home \"/\" route."
      ]
    },
    {
      "cell_type": "markdown",
      "metadata": {
        "id": "LUdROUflUiyp"
      },
      "source": [
        "A function for \"/login\" route."
      ]
    },
    {
      "cell_type": "code",
      "metadata": {
        "id": "cZBKfG9tU5pt"
      },
      "source": [
        "@app.route('/nst_post', methods=['GET','POST'])\n",
        "def nst_post():\n",
        "  if request.method == 'POST':\n",
        "    #root_path()\n",
        "\n",
        "    # Reference Image\n",
        "    refer_img = request.form['refer_img']\n",
        "    refer_img_path = './static/images/nst_get/'+str(refer_img)\n",
        "\n",
        "    # User Image (target image)\n",
        "    user_img = request.files['user_img']\n",
        "    user_img.save('./static/images/nst_get/user/'+str(user_img.filename))\n",
        "    user_img_path = './static/images/nst_get/user/'+str(user_img.filename)\n",
        "\n",
        "    # Neural Style Transfer \n",
        "    #transfer_img = neural_style_transfer.main(refer_img_path, user_img_path)\n",
        "    transfer_img = new_style_transfer.main(refer_img_path, user_img_path)\n",
        "    transfer_img_path = './static/images/nst_result/'+str(transfer_img.split('/')[-1])\n",
        "\n",
        "  return render_template('nst_post.html', \n",
        "          refer_img=refer_img_path, user_img=user_img_path, transfer_img=transfer_img_path)"
      ],
      "execution_count": 42,
      "outputs": []
    },
    {
      "cell_type": "markdown",
      "metadata": {
        "id": "u9xJlDjzU0ID"
      },
      "source": [
        "Run python app.  The \"ngrok\" library provides public address that anyone can visit."
      ]
    },
    {
      "cell_type": "code",
      "metadata": {
        "id": "YpTnw1abVT9c"
      },
      "source": [
        "#!ngrok http 127.0.0.1:5000\n",
        "#!ngrok http 127.0.0.1:5000 -host-header=\"127.0.0.1:5000\"\n",
        "#!ngrok http https://localhost:5000 -host-header=\"localhost:5000\""
      ],
      "execution_count": 43,
      "outputs": []
    },
    {
      "cell_type": "code",
      "metadata": {
        "id": "LpUG0OHZr6H8",
        "colab": {
          "base_uri": "https://localhost:8080/"
        },
        "outputId": "0cf0b5f1-dc08-4d35-d78c-4d3705155e48"
      },
      "source": [
        "if __name__ == \"__main__\":\n",
        "\tapp.run()\n",
        "  #app.run(host='0.0.0.0')"
      ],
      "execution_count": 44,
      "outputs": [
        {
          "output_type": "stream",
          "text": [
            " * Serving Flask app \"__main__\" (lazy loading)\n",
            " * Environment: production\n",
            "\u001b[31m   WARNING: This is a development server. Do not use it in a production deployment.\u001b[0m\n",
            "\u001b[2m   Use a production WSGI server instead.\u001b[0m\n",
            " * Debug mode: off\n"
          ],
          "name": "stdout"
        },
        {
          "output_type": "stream",
          "text": [
            " * Running on http://127.0.0.1:5000/ (Press CTRL+C to quit)\n"
          ],
          "name": "stderr"
        },
        {
          "output_type": "stream",
          "text": [
            " * Running on http://eb6b1c08a542.ngrok.io\n",
            " * Traffic stats available on http://127.0.0.1:4040\n"
          ],
          "name": "stdout"
        },
        {
          "output_type": "stream",
          "text": [
            "127.0.0.1 - - [18/Jun/2021 07:44:54] \"\u001b[37mGET / HTTP/1.1\u001b[0m\" 200 -\n",
            "127.0.0.1 - - [18/Jun/2021 07:44:54] \"\u001b[33mGET /css/styles.css HTTP/1.1\u001b[0m\" 404 -\n",
            "127.0.0.1 - - [18/Jun/2021 07:44:55] \"\u001b[33mGET /js/scripts.js HTTP/1.1\u001b[0m\" 404 -\n",
            "127.0.0.1 - - [18/Jun/2021 07:44:56] \"\u001b[33mGET /js/scripts.js HTTP/1.1\u001b[0m\" 404 -\n",
            "127.0.0.1 - - [18/Jun/2021 07:44:57] \"\u001b[33mGET /assets/favicon.ico HTTP/1.1\u001b[0m\" 404 -\n"
          ],
          "name": "stderr"
        }
      ]
    },
    {
      "cell_type": "code",
      "metadata": {
        "id": "GwRqfNQtWpAw"
      },
      "source": [
        "#!pip -q install streamlit\n",
        "#!ngrok http 127.0.0.1:5000"
      ],
      "execution_count": 45,
      "outputs": []
    },
    {
      "cell_type": "code",
      "metadata": {
        "id": "dwe6Aa7R6D-7",
        "colab": {
          "base_uri": "https://localhost:8080/",
          "height": 35
        },
        "outputId": "fae47ff6-82d5-420b-a6e8-4c3eb20ea6be"
      },
      "source": [
        "'''\n",
        "from pyngrok import ngrok\n",
        "public_url = ngrok.connect(port='8080')\n",
        "print (public_url)\n",
        "!streamlit run app.py >/dev/null\n",
        "'''"
      ],
      "execution_count": 46,
      "outputs": [
        {
          "output_type": "execute_result",
          "data": {
            "application/vnd.google.colaboratory.intrinsic+json": {
              "type": "string"
            },
            "text/plain": [
              "\"\\nfrom pyngrok import ngrok\\npublic_url = ngrok.connect(port='8080')\\nprint (public_url)\\n!streamlit run app.py >/dev/null\\n\""
            ]
          },
          "metadata": {
            "tags": []
          },
          "execution_count": 46
        }
      ]
    }
  ]
}